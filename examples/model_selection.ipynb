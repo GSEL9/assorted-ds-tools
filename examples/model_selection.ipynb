{
 "cells": [
  {
   "cell_type": "markdown",
   "metadata": {},
   "source": [
    "# Example: Model selection\n",
    "\n",
    "Perform model comparison and criteria based selection."
   ]
  },
  {
   "cell_type": "code",
   "execution_count": 1,
   "metadata": {},
   "outputs": [],
   "source": [
    "import numpy as np\n",
    "import matplotlib.pyplot as plt\n",
    "\n",
    "from sklearn.decomposition import PCA\n",
    "from sklearn.pipeline import make_pipeline\n",
    "from sklearn.linear_model import ElasticNet\n",
    "from sklearn.ensemble import RandomForestRegressor\n",
    "from sklearn.datasets import make_regression\n",
    "\n",
    "from dstools import model_selection\n",
    "\n",
    "%matplotlib inline"
   ]
  },
  {
   "cell_type": "markdown",
   "metadata": {},
   "source": [
    "Load training data"
   ]
  },
  {
   "cell_type": "code",
   "execution_count": 2,
   "metadata": {
    "collapsed": true
   },
   "outputs": [],
   "source": [
    "X, y = make_regression()"
   ]
  },
  {
   "cell_type": "markdown",
   "metadata": {},
   "source": [
    "Specify parameter grid"
   ]
  },
  {
   "cell_type": "code",
   "execution_count": 3,
   "metadata": {
    "collapsed": true
   },
   "outputs": [],
   "source": [
    "elnet_pipe = make_pipeline(\n",
    "    PCA(n_components=0.99, random_state=0),\n",
    "    ElasticNet(random_state=0)\n",
    ")\n",
    "rf_pipe = make_pipeline(\n",
    "    PCA(n_components=0.99, random_state=0),\n",
    "    RandomForestRegressor(random_state=0)\n",
    ")\n",
    "pipe_grid_specs = (\n",
    "    (elnet_pipe, {'alpha': [0.01, 0.1, 1], 'l1_ratio': [0.3, 0.5, 0.7]}),\n",
    "    (rf_pipe, {'max_depth': [200, 500, 700]})\n",
    ")"
   ]
  },
  {
   "cell_type": "markdown",
   "metadata": {},
   "source": [
    "Format grid specifications "
   ]
  },
  {
   "cell_type": "code",
   "execution_count": 4,
   "metadata": {},
   "outputs": [],
   "source": [
    "pipes_and_parameters = model_selection.parameter_grid(pipe_grid_specs, pipeline=True)"
   ]
  },
  {
   "cell_type": "markdown",
   "metadata": {},
   "source": [
    "Compare models and report the best alternative"
   ]
  },
  {
   "cell_type": "code",
   "execution_count": 5,
   "metadata": {},
   "outputs": [
    {
     "name": "stdout",
     "output_type": "stream",
     "text": [
      "Model performance report \n",
      "-------------------------\n",
      "Name: elasticnet\n",
      "Training scores: -30221.97 +/- 2482.352\n",
      "Test scores: -32519.288 +/- 3203.032\n",
      "Train-test difference: 2297.317575399884\n",
      "\n",
      "Model performance report \n",
      "-------------------------\n",
      "Name: randomforestregressor\n",
      "Training scores: -50167.07 +/- 8036.687\n",
      "Test scores: -40338.023 +/- 2426.482\n",
      "Train-test difference: -9829.047548844304\n",
      "\n"
     ]
    }
   ],
   "source": [
    "pipe_results = model_selection.compare_estimators(\n",
    "    X, y, pipes_and_parameters, test_size=0.3, folds=10, scoring='neg_mean_squared_error'\n",
    ")"
   ]
  },
  {
   "cell_type": "code",
   "execution_count": 6,
   "metadata": {},
   "outputs": [
    {
     "name": "stdout",
     "output_type": "stream",
     "text": [
      "Best model report \n",
      "--------------------\n",
      "Name: elasticnet\n",
      "Criteria: bias\n",
      "Best scores: -32519.287581346813\n"
     ]
    }
   ],
   "source": [
    "model_selection.report_best_model(pipe_results, criteria='bias')"
   ]
  },
  {
   "cell_type": "code",
   "execution_count": 7,
   "metadata": {},
   "outputs": [
    {
     "name": "stdout",
     "output_type": "stream",
     "text": [
      "Best model report \n",
      "--------------------\n",
      "Name: randomforestregressor\n",
      "Criteria: variance\n",
      "Best scores: -9829.047548844304\n"
     ]
    }
   ],
   "source": [
    "model_selection.report_best_model(pipe_results, criteria='variance')"
   ]
  },
  {
   "cell_type": "code",
   "execution_count": null,
   "metadata": {
    "collapsed": true
   },
   "outputs": [],
   "source": []
  }
 ],
 "metadata": {
  "kernelspec": {
   "display_name": "Python [conda env:anaconda]",
   "language": "python",
   "name": "conda-env-anaconda-py"
  },
  "language_info": {
   "codemirror_mode": {
    "name": "ipython",
    "version": 3
   },
   "file_extension": ".py",
   "mimetype": "text/x-python",
   "name": "python",
   "nbconvert_exporter": "python",
   "pygments_lexer": "ipython3",
   "version": "3.6.3"
  }
 },
 "nbformat": 4,
 "nbformat_minor": 2
}
